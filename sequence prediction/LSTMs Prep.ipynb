{
 "cells": [
  {
   "cell_type": "code",
   "execution_count": 1,
   "metadata": {},
   "outputs": [
    {
     "name": "stderr",
     "output_type": "stream",
     "text": [
      "Using TensorFlow backend.\n"
     ]
    }
   ],
   "source": [
    "import pandas as pd\n",
    "import sklearn.model_selection as skcv\n",
    "import random\n",
    "import numpy as np\n",
    "from ast import literal_eval\n",
    "from keras.preprocessing.sequence import pad_sequences\n",
    "from keras.models import Sequential\n",
    "from keras.layers import Dense, LSTM, Flatten\n",
    "from keras.regularizers import l2"
   ]
  },
  {
   "cell_type": "code",
   "execution_count": 2,
   "metadata": {},
   "outputs": [],
   "source": [
    "#This comes from stored data\n",
    "l=[2,3,1,3,4,5,1,2,4,6,4,4,1,2,5,6]"
   ]
  },
  {
   "cell_type": "code",
   "execution_count": 3,
   "metadata": {},
   "outputs": [],
   "source": [
    "#To make groups of 4 and split leftover into hold to hold the elements and pred to make predictions\n",
    "pred=l[-4:]\n",
    "l=l[:-4]\n",
    "m=len(l)%5\n",
    "if m!=0:\n",
    "    hold=l[-m:]\n",
    "    l=l[:-m]"
   ]
  },
  {
   "cell_type": "code",
   "execution_count": 4,
   "metadata": {},
   "outputs": [
    {
     "data": {
      "text/plain": [
       "[2, 3, 1, 3, 4, 5, 1, 2, 4, 6]"
      ]
     },
     "execution_count": 4,
     "metadata": {},
     "output_type": "execute_result"
    }
   ],
   "source": [
    "l"
   ]
  },
  {
   "cell_type": "code",
   "execution_count": 5,
   "metadata": {},
   "outputs": [],
   "source": [
    "df_train=pd.read_csv(\"train_new.csv\")"
   ]
  },
  {
   "cell_type": "code",
   "execution_count": 6,
   "metadata": {},
   "outputs": [],
   "source": [
    "# Enter new values into dataframe from l\n",
    "c=0\n",
    "for i in range(0,len(l),5):\n",
    "    c+=1\n",
    "    df_train = df_train.append({\"Sequences\":str(l[i:i+4]),\"nint\":l[i+4]},ignore_index=True)"
   ]
  },
  {
   "cell_type": "code",
   "execution_count": 7,
   "metadata": {},
   "outputs": [
    {
     "data": {
      "text/html": [
       "<div>\n",
       "<style scoped>\n",
       "    .dataframe tbody tr th:only-of-type {\n",
       "        vertical-align: middle;\n",
       "    }\n",
       "\n",
       "    .dataframe tbody tr th {\n",
       "        vertical-align: top;\n",
       "    }\n",
       "\n",
       "    .dataframe thead th {\n",
       "        text-align: right;\n",
       "    }\n",
       "</style>\n",
       "<table border=\"1\" class=\"dataframe\">\n",
       "  <thead>\n",
       "    <tr style=\"text-align: right;\">\n",
       "      <th></th>\n",
       "      <th>Sequences</th>\n",
       "      <th>nint</th>\n",
       "    </tr>\n",
       "  </thead>\n",
       "  <tbody>\n",
       "    <tr>\n",
       "      <th>0</th>\n",
       "      <td>[2, 4, 1, 6]</td>\n",
       "      <td>1</td>\n",
       "    </tr>\n",
       "    <tr>\n",
       "      <th>1</th>\n",
       "      <td>[2, 1, 1, 6]</td>\n",
       "      <td>5</td>\n",
       "    </tr>\n",
       "    <tr>\n",
       "      <th>2</th>\n",
       "      <td>[4, 2, 1, 5]</td>\n",
       "      <td>2</td>\n",
       "    </tr>\n",
       "    <tr>\n",
       "      <th>3</th>\n",
       "      <td>[2, 3, 2, 4]</td>\n",
       "      <td>6</td>\n",
       "    </tr>\n",
       "    <tr>\n",
       "      <th>4</th>\n",
       "      <td>[5, 1, 1, 3]</td>\n",
       "      <td>4</td>\n",
       "    </tr>\n",
       "    <tr>\n",
       "      <th>5</th>\n",
       "      <td>[1, 2, 5, 6]</td>\n",
       "      <td>2</td>\n",
       "    </tr>\n",
       "    <tr>\n",
       "      <th>6</th>\n",
       "      <td>[1, 4, 2, 3]</td>\n",
       "      <td>1</td>\n",
       "    </tr>\n",
       "    <tr>\n",
       "      <th>7</th>\n",
       "      <td>[4, 2, 5, 4]</td>\n",
       "      <td>2</td>\n",
       "    </tr>\n",
       "    <tr>\n",
       "      <th>8</th>\n",
       "      <td>[1, 6, 4, 2]</td>\n",
       "      <td>5</td>\n",
       "    </tr>\n",
       "    <tr>\n",
       "      <th>9</th>\n",
       "      <td>[2, 3, 1, 3]</td>\n",
       "      <td>4</td>\n",
       "    </tr>\n",
       "    <tr>\n",
       "      <th>10</th>\n",
       "      <td>[5, 1, 2, 4]</td>\n",
       "      <td>6</td>\n",
       "    </tr>\n",
       "    <tr>\n",
       "      <th>11</th>\n",
       "      <td>[2, 3, 1, 3]</td>\n",
       "      <td>4</td>\n",
       "    </tr>\n",
       "    <tr>\n",
       "      <th>12</th>\n",
       "      <td>[5, 1, 2, 4]</td>\n",
       "      <td>6</td>\n",
       "    </tr>\n",
       "    <tr>\n",
       "      <th>13</th>\n",
       "      <td>[2, 3, 1, 3]</td>\n",
       "      <td>4</td>\n",
       "    </tr>\n",
       "    <tr>\n",
       "      <th>14</th>\n",
       "      <td>[5, 1, 2, 4]</td>\n",
       "      <td>6</td>\n",
       "    </tr>\n",
       "  </tbody>\n",
       "</table>\n",
       "</div>"
      ],
      "text/plain": [
       "       Sequences  nint\n",
       "0   [2, 4, 1, 6]     1\n",
       "1   [2, 1, 1, 6]     5\n",
       "2   [4, 2, 1, 5]     2\n",
       "3   [2, 3, 2, 4]     6\n",
       "4   [5, 1, 1, 3]     4\n",
       "5   [1, 2, 5, 6]     2\n",
       "6   [1, 4, 2, 3]     1\n",
       "7   [4, 2, 5, 4]     2\n",
       "8   [1, 6, 4, 2]     5\n",
       "9   [2, 3, 1, 3]     4\n",
       "10  [5, 1, 2, 4]     6\n",
       "11  [2, 3, 1, 3]     4\n",
       "12  [5, 1, 2, 4]     6\n",
       "13  [2, 3, 1, 3]     4\n",
       "14  [5, 1, 2, 4]     6"
      ]
     },
     "execution_count": 7,
     "metadata": {},
     "output_type": "execute_result"
    }
   ],
   "source": [
    "# Manipulation to make np arrays of list objects for training\n",
    "df_train.loc[:,'Sequences'] = df_train.loc[:,'Sequences'].apply(literal_eval)\n",
    "df_train"
   ]
  },
  {
   "cell_type": "code",
   "execution_count": 8,
   "metadata": {},
   "outputs": [
    {
     "data": {
      "text/plain": [
       "[4, 4, 1, 2, 5, 6]"
      ]
     },
     "execution_count": 8,
     "metadata": {},
     "output_type": "execute_result"
    }
   ],
   "source": [
    "# Reform the list l from the leftover elements and pred(prediction elements) \n",
    "l=hold+pred\n",
    "l"
   ]
  },
  {
   "cell_type": "code",
   "execution_count": 9,
   "metadata": {},
   "outputs": [],
   "source": [
    "#Write back to csv file\n",
    "df_train.to_csv('train_new.csv',index=False)"
   ]
  },
  {
   "cell_type": "code",
   "execution_count": 10,
   "metadata": {},
   "outputs": [],
   "source": [
    "df_train_X = df_train['Sequences'].values\n",
    "df_train_y = df_train['nint'].values"
   ]
  },
  {
   "cell_type": "code",
   "execution_count": 11,
   "metadata": {},
   "outputs": [
    {
     "data": {
      "text/plain": [
       "array([list([2, 4, 1, 6]), list([2, 1, 1, 6]), list([4, 2, 1, 5]),\n",
       "       list([2, 3, 2, 4]), list([5, 1, 1, 3]), list([1, 2, 5, 6]),\n",
       "       list([1, 4, 2, 3]), list([4, 2, 5, 4]), list([1, 6, 4, 2]),\n",
       "       list([2, 3, 1, 3]), list([5, 1, 2, 4]), list([2, 3, 1, 3]),\n",
       "       list([5, 1, 2, 4]), list([2, 3, 1, 3]), list([5, 1, 2, 4])],\n",
       "      dtype=object)"
      ]
     },
     "execution_count": 11,
     "metadata": {},
     "output_type": "execute_result"
    }
   ],
   "source": [
    "df_train_X"
   ]
  },
  {
   "cell_type": "code",
   "execution_count": 12,
   "metadata": {},
   "outputs": [],
   "source": [
    "df1=pd.DataFrame(columns=['pred'])\n",
    "df1.loc[0]=[str(pred)]\n",
    "df1.loc[:,'pred']=df1.loc[:,'pred'].apply(literal_eval)\n",
    "df_test_X = df1['pred'].values"
   ]
  },
  {
   "cell_type": "code",
   "execution_count": 13,
   "metadata": {},
   "outputs": [],
   "source": [
    "df_train_X = pad_sequences(df_train_X, dtype='int')\n",
    "df_test_X = pad_sequences(df_test_X, dtype='int')"
   ]
  },
  {
   "cell_type": "code",
   "execution_count": 14,
   "metadata": {},
   "outputs": [],
   "source": [
    "df_train_X_rshp = df_train_X.reshape(df_train_X.shape + (1,))\n",
    "df_test_X_rshp = df_test_X.reshape(df_test_X.shape + (1,))\n",
    "df_test_X_rshp.shape\n",
    "input_shape = df_train_X_rshp[0].shape"
   ]
  },
  {
   "cell_type": "code",
   "execution_count": 15,
   "metadata": {},
   "outputs": [
    {
     "name": "stderr",
     "output_type": "stream",
     "text": [
      "WARNING: Logging before flag parsing goes to stderr.\n",
      "W0414 22:53:00.689136 140233545164544 deprecation_wrapper.py:119] From /home/atharva/anaconda3/lib/python3.7/site-packages/keras/backend/tensorflow_backend.py:74: The name tf.get_default_graph is deprecated. Please use tf.compat.v1.get_default_graph instead.\n",
      "\n",
      "/home/atharva/anaconda3/lib/python3.7/site-packages/ipykernel_launcher.py:5: UserWarning: Update your `LSTM` call to the Keras 2 API: `LSTM(128, input_shape=(4, 1), return_sequences=True, go_backwards=False, activation=\"tanh\", kernel_initializer=\"glorot_normal\", recurrent_initializer=\"glorot_normal\", kernel_regularizer=<keras.reg..., recurrent_regularizer=<keras.reg...)`\n",
      "  \"\"\"\n",
      "W0414 22:53:00.734880 140233545164544 deprecation_wrapper.py:119] From /home/atharva/anaconda3/lib/python3.7/site-packages/keras/backend/tensorflow_backend.py:517: The name tf.placeholder is deprecated. Please use tf.compat.v1.placeholder instead.\n",
      "\n",
      "W0414 22:53:00.737774 140233545164544 deprecation_wrapper.py:119] From /home/atharva/anaconda3/lib/python3.7/site-packages/keras/backend/tensorflow_backend.py:4185: The name tf.truncated_normal is deprecated. Please use tf.random.truncated_normal instead.\n",
      "\n",
      "W0414 22:53:00.908626 140233545164544 deprecation_wrapper.py:119] From /home/atharva/anaconda3/lib/python3.7/site-packages/keras/backend/tensorflow_backend.py:4138: The name tf.random_uniform is deprecated. Please use tf.random.uniform instead.\n",
      "\n"
     ]
    }
   ],
   "source": [
    "#Adding layers\n",
    "model = Sequential()\n",
    "model.add(LSTM(128, input_shape=input_shape, return_sequences=True, go_backwards=False,\n",
    "               W_regularizer=l2(0.005), U_regularizer=l2(0.005),\n",
    "               inner_init='glorot_normal', init='glorot_normal', activation='tanh'))  # try using a GRU instead, for fun\n",
    "model.add( LSTM( 128, return_sequences=False))\n",
    "model.add(Dense(1,activation='linear'))"
   ]
  },
  {
   "cell_type": "code",
   "execution_count": 16,
   "metadata": {},
   "outputs": [
    {
     "name": "stderr",
     "output_type": "stream",
     "text": [
      "W0414 22:53:01.096511 140233545164544 deprecation_wrapper.py:119] From /home/atharva/anaconda3/lib/python3.7/site-packages/keras/optimizers.py:790: The name tf.train.Optimizer is deprecated. Please use tf.compat.v1.train.Optimizer instead.\n",
      "\n",
      "/home/atharva/anaconda3/lib/python3.7/site-packages/ipykernel_launcher.py:3: UserWarning: The `nb_epoch` argument in `fit` has been renamed `epochs`.\n",
      "  This is separate from the ipykernel package so we can avoid doing imports until\n",
      "W0414 22:53:01.385352 140233545164544 deprecation.py:323] From /home/atharva/anaconda3/lib/python3.7/site-packages/tensorflow/python/ops/math_grad.py:1250: add_dispatch_support.<locals>.wrapper (from tensorflow.python.ops.array_ops) is deprecated and will be removed in a future version.\n",
      "Instructions for updating:\n",
      "Use tf.where in 2.0, which has the same broadcast rule as np.where\n",
      "W0414 22:53:02.292845 140233545164544 deprecation_wrapper.py:119] From /home/atharva/anaconda3/lib/python3.7/site-packages/keras/backend/tensorflow_backend.py:986: The name tf.assign_add is deprecated. Please use tf.compat.v1.assign_add instead.\n",
      "\n"
     ]
    },
    {
     "name": "stdout",
     "output_type": "stream",
     "text": [
      "Epoch 1/5\n",
      "15/15 [==============================] - 3s 182ms/step - loss: 19.2786\n",
      "Epoch 2/5\n",
      "15/15 [==============================] - 0s 2ms/step - loss: 16.3426\n",
      "Epoch 3/5\n",
      "15/15 [==============================] - 0s 2ms/step - loss: 13.6501\n",
      "Epoch 4/5\n",
      "15/15 [==============================] - 0s 2ms/step - loss: 10.4526\n",
      "Epoch 5/5\n",
      "15/15 [==============================] - 0s 1ms/step - loss: 7.0294\n"
     ]
    },
    {
     "data": {
      "text/plain": [
       "<keras.callbacks.History at 0x7f8a60d642b0>"
      ]
     },
     "execution_count": 16,
     "metadata": {},
     "output_type": "execute_result"
    }
   ],
   "source": [
    "#Model training\n",
    "model.compile(loss='mse', optimizer='rmsprop')\n",
    "model.fit(df_train_X_rshp, df_train_y, batch_size=32, nb_epoch=5)"
   ]
  },
  {
   "cell_type": "code",
   "execution_count": 17,
   "metadata": {},
   "outputs": [
    {
     "name": "stdout",
     "output_type": "stream",
     "text": [
      "3\n"
     ]
    }
   ],
   "source": [
    "#prediction\n",
    "df_pred_y = model.predict(df_test_X_rshp)\n",
    "print(int(np.round(df_pred_y)[0][0]))"
   ]
  },
  {
   "cell_type": "code",
   "execution_count": 18,
   "metadata": {},
   "outputs": [],
   "source": [
    "#preparing new inputs function\n",
    "def prepareTest(pred):\n",
    "    df1=pd.DataFrame(columns=['pred'])\n",
    "    df1.loc[0]=[str(pred)]\n",
    "    df1.loc[:,'pred']=df1.loc[:,'pred'].apply(literal_eval)\n",
    "    df_test_X = df1['pred'].values\n",
    "    df_test_X = pad_sequences(df_test_X, dtype='int')\n",
    "    df_test_X_rshp = df_test_X.reshape(df_test_X.shape + (1,))"
   ]
  },
  {
   "cell_type": "code",
   "execution_count": 19,
   "metadata": {},
   "outputs": [
    {
     "name": "stdout",
     "output_type": "stream",
     "text": [
      "-1 to exit\n",
      "2\n",
      "3\n",
      "-1 to exit\n",
      "4\n",
      "3\n",
      "-1 to exit\n",
      "6\n",
      "3\n",
      "-1 to exit\n",
      "-1\n"
     ]
    }
   ],
   "source": [
    "# To incorporate new user_gestures for new predictions by shifting elemnts in pred list and make prediction. Also append new elemnts to l list\n",
    "i=0\n",
    "while True:\n",
    "    print(\"-1 to exit\")\n",
    "    user_gesture = int(input())\n",
    "    if user_gesture==-1:\n",
    "        break\n",
    "    l.append(user_gesture)\n",
    "    for i in range(len(pred)-1):\n",
    "        pred[i]=pred[i+1]\n",
    "    pred[-1]=user_gesture\n",
    "    prepareTest(pred)\n",
    "    df_pred_y = model.predict(df_test_X_rshp)\n",
    "    print(int(np.round(df_pred_y)[0][0]))\n",
    "    "
   ]
  },
  {
   "cell_type": "code",
   "execution_count": 20,
   "metadata": {},
   "outputs": [
    {
     "data": {
      "text/plain": [
       "[4, 4, 1, 2, 5, 6, 2, 4, 6]"
      ]
     },
     "execution_count": 20,
     "metadata": {},
     "output_type": "execute_result"
    }
   ],
   "source": [
    "l\n",
    "# 2,4,6 added to the list which will be appended to the csv file through the process executed at the top of the file. Save this list l to database"
   ]
  }
 ],
 "metadata": {
  "kernelspec": {
   "display_name": "Python 3",
   "language": "python",
   "name": "python3"
  },
  "language_info": {
   "codemirror_mode": {
    "name": "ipython",
    "version": 3
   },
   "file_extension": ".py",
   "mimetype": "text/x-python",
   "name": "python",
   "nbconvert_exporter": "python",
   "pygments_lexer": "ipython3",
   "version": "3.7.3"
  }
 },
 "nbformat": 4,
 "nbformat_minor": 2
}
