{
 "cells": [
  {
   "cell_type": "code",
   "execution_count": 1,
   "metadata": {},
   "outputs": [
    {
     "name": "stderr",
     "output_type": "stream",
     "text": [
      "Using TensorFlow backend.\n"
     ]
    }
   ],
   "source": [
    "import pandas as pd\n",
    "import sklearn.model_selection as skcv\n",
    "import random\n",
    "import numpy as np\n",
    "\n",
    "from keras.preprocessing.sequence import pad_sequences\n",
    "from keras.models import Sequential\n",
    "from keras.layers import Dense, LSTM, Flatten\n",
    "from keras.regularizers import l2"
   ]
  },
  {
   "cell_type": "code",
   "execution_count": 2,
   "metadata": {},
   "outputs": [],
   "source": [
    "#Currently took data from a list and made a csv file\n",
    "l=[2,4,1,6,1,2,1,1,6,5,4,2,1,5,2,2,3,2,4,6,5,1,1,3,4,1,2,5,6,2,1,4,2,3,1,4,2,5,4,2,1,6,4,2,5,4,4,1,2,5,6]\n",
    "# hold=[4, 4]\n",
    "# pred=[1, 2, 5, 6]"
   ]
  },
  {
   "cell_type": "code",
   "execution_count": 3,
   "metadata": {},
   "outputs": [],
   "source": [
    "#To make batches of 4 for training purposes\n",
    "pred=l[-4:]\n",
    "l=l[:-4]\n",
    "m=len(l)%5\n",
    "if m!=0:\n",
    "    hold=l[-m:]\n",
    "    l=l[:-m]"
   ]
  },
  {
   "cell_type": "code",
   "execution_count": 4,
   "metadata": {},
   "outputs": [],
   "source": [
    "#Temp\n",
    "col_names =  ['Sequences']\n",
    "df_train = pd.DataFrame(columns = col_names)\n",
    "for i in range(0,len(l),5):\n",
    "    df_train = df_train.append({\"Sequences\":l[i:i+5]},ignore_index=True)"
   ]
  },
  {
   "cell_type": "code",
   "execution_count": 5,
   "metadata": {},
   "outputs": [],
   "source": [
    "# df_train=pd.read_csv(\"train_new.csv\")"
   ]
  },
  {
   "cell_type": "code",
   "execution_count": 6,
   "metadata": {},
   "outputs": [],
   "source": [
    "# for i in range(0,len(l),5):\n",
    "#     df_train = df_train.append({\"Sequences\":l[i:i+4],\"nint\":l[i+5]},ignore_index=True)"
   ]
  },
  {
   "cell_type": "code",
   "execution_count": 7,
   "metadata": {},
   "outputs": [
    {
     "data": {
      "text/html": [
       "<div>\n",
       "<style scoped>\n",
       "    .dataframe tbody tr th:only-of-type {\n",
       "        vertical-align: middle;\n",
       "    }\n",
       "\n",
       "    .dataframe tbody tr th {\n",
       "        vertical-align: top;\n",
       "    }\n",
       "\n",
       "    .dataframe thead th {\n",
       "        text-align: right;\n",
       "    }\n",
       "</style>\n",
       "<table border=\"1\" class=\"dataframe\">\n",
       "  <thead>\n",
       "    <tr style=\"text-align: right;\">\n",
       "      <th></th>\n",
       "      <th>Sequences</th>\n",
       "    </tr>\n",
       "  </thead>\n",
       "  <tbody>\n",
       "    <tr>\n",
       "      <th>0</th>\n",
       "      <td>[2, 4, 1, 6, 1]</td>\n",
       "    </tr>\n",
       "    <tr>\n",
       "      <th>1</th>\n",
       "      <td>[2, 1, 1, 6, 5]</td>\n",
       "    </tr>\n",
       "    <tr>\n",
       "      <th>2</th>\n",
       "      <td>[4, 2, 1, 5, 2]</td>\n",
       "    </tr>\n",
       "    <tr>\n",
       "      <th>3</th>\n",
       "      <td>[2, 3, 2, 4, 6]</td>\n",
       "    </tr>\n",
       "    <tr>\n",
       "      <th>4</th>\n",
       "      <td>[5, 1, 1, 3, 4]</td>\n",
       "    </tr>\n",
       "    <tr>\n",
       "      <th>5</th>\n",
       "      <td>[1, 2, 5, 6, 2]</td>\n",
       "    </tr>\n",
       "    <tr>\n",
       "      <th>6</th>\n",
       "      <td>[1, 4, 2, 3, 1]</td>\n",
       "    </tr>\n",
       "    <tr>\n",
       "      <th>7</th>\n",
       "      <td>[4, 2, 5, 4, 2]</td>\n",
       "    </tr>\n",
       "    <tr>\n",
       "      <th>8</th>\n",
       "      <td>[1, 6, 4, 2, 5]</td>\n",
       "    </tr>\n",
       "  </tbody>\n",
       "</table>\n",
       "</div>"
      ],
      "text/plain": [
       "         Sequences\n",
       "0  [2, 4, 1, 6, 1]\n",
       "1  [2, 1, 1, 6, 5]\n",
       "2  [4, 2, 1, 5, 2]\n",
       "3  [2, 3, 2, 4, 6]\n",
       "4  [5, 1, 1, 3, 4]\n",
       "5  [1, 2, 5, 6, 2]\n",
       "6  [1, 4, 2, 3, 1]\n",
       "7  [4, 2, 5, 4, 2]\n",
       "8  [1, 6, 4, 2, 5]"
      ]
     },
     "execution_count": 7,
     "metadata": {},
     "output_type": "execute_result"
    }
   ],
   "source": [
    "df_train"
   ]
  },
  {
   "cell_type": "code",
   "execution_count": 8,
   "metadata": {
    "scrolled": true
   },
   "outputs": [
    {
     "data": {
      "text/plain": [
       "[4, 4, 1, 2, 5, 6]"
      ]
     },
     "execution_count": 8,
     "metadata": {},
     "output_type": "execute_result"
    }
   ],
   "source": [
    "l=hold+pred\n",
    "l"
   ]
  },
  {
   "cell_type": "code",
   "execution_count": 9,
   "metadata": {},
   "outputs": [],
   "source": [
    "# data_train = pd.read_csv(\"train1.csv\")"
   ]
  },
  {
   "cell_type": "code",
   "execution_count": 10,
   "metadata": {
    "scrolled": true
   },
   "outputs": [],
   "source": [
    "# def create_vector(line):\n",
    "#     return line.split(\",\")"
   ]
  },
  {
   "cell_type": "code",
   "execution_count": 11,
   "metadata": {},
   "outputs": [],
   "source": [
    "# data_train['vector'] = data_train[\"Sequence\"].apply(create_vector)\n",
    "# data_train"
   ]
  },
  {
   "cell_type": "code",
   "execution_count": 12,
   "metadata": {},
   "outputs": [],
   "source": [
    "def get_last(x):\n",
    "    return x.pop()"
   ]
  },
  {
   "cell_type": "code",
   "execution_count": 13,
   "metadata": {},
   "outputs": [],
   "source": [
    "df_train['nint'] = df_train[\"Sequences\"].apply(get_last)"
   ]
  },
  {
   "cell_type": "code",
   "execution_count": 14,
   "metadata": {},
   "outputs": [],
   "source": [
    "df_train\n",
    "df_train.to_csv('train_new.csv')"
   ]
  },
  {
   "cell_type": "code",
   "execution_count": 15,
   "metadata": {},
   "outputs": [],
   "source": [
    "# df_train_X = df_train['Sequences'].values\n",
    "# df_train_y = df_train['nint'].values\n",
    "# df_test_X = np.asarray(pred,dtype=object)"
   ]
  },
  {
   "cell_type": "code",
   "execution_count": 16,
   "metadata": {},
   "outputs": [],
   "source": [
    "# df_test_X"
   ]
  },
  {
   "cell_type": "code",
   "execution_count": 17,
   "metadata": {},
   "outputs": [],
   "source": [
    "# df_train_X = pad_sequences(df_train_X, dtype='int')\n",
    "# df_test_X = pad_sequences(df_test_X, dtype='int')"
   ]
  },
  {
   "cell_type": "code",
   "execution_count": 18,
   "metadata": {},
   "outputs": [],
   "source": [
    "# df_train_X_rshp = df_train_X.reshape(df_train_X.shape + (1,))\n",
    "# df_test_X_rshp = df_test_X.reshape(df_test_X.shape + (1,))\n",
    "# df_test_X_rshp.shape\n",
    "# input_shape = df_train_X_rshp[0].shape"
   ]
  },
  {
   "cell_type": "code",
   "execution_count": 19,
   "metadata": {},
   "outputs": [],
   "source": [
    "# model = Sequential()\n",
    "# model.add(LSTM(128, input_shape=input_shape, return_sequences=True, go_backwards=False,\n",
    "#                W_regularizer=l2(0.005), U_regularizer=l2(0.005),\n",
    "#                inner_init='glorot_normal', init='glorot_normal', activation='tanh'))  # try using a GRU instead, for fun\n",
    "# model.add( LSTM( 128, return_sequences=False))\n",
    "# model.add(Dense(1,activation='linear'))"
   ]
  },
  {
   "cell_type": "code",
   "execution_count": 20,
   "metadata": {},
   "outputs": [],
   "source": [
    "# model.compile(loss='mse', optimizer='rmsprop')\n",
    "# model.fit(df_train_X_rshp, df_train_y, batch_size=32, nb_epoch=5)"
   ]
  },
  {
   "cell_type": "code",
   "execution_count": 21,
   "metadata": {},
   "outputs": [],
   "source": [
    "# df_pred_y = model.predict(df_test_X_rshp)\n",
    "# df_pred_y"
   ]
  },
  {
   "cell_type": "code",
   "execution_count": 22,
   "metadata": {},
   "outputs": [],
   "source": [
    "#To incorporate new user_gestures for new predictions\n",
    "\n",
    "# i=0\n",
    "# while True:\n",
    "#     print(\"1 to exit\")\n",
    "#     if i==0:\n",
    "#         break\n",
    "#     user_gesture = int(input())\n",
    "#     l.append(user_gesture)\n",
    "#     for i in range(len(pred)-1):\n",
    "#         pred[i]=pred[i+1]\n",
    "#     pred[-1]=user_gesture\n",
    "#     df_test_X = np.asarray(pred)\n",
    "#     df_test_X = pad_sequences(df_test_X, dtype='int')\n",
    "#     df_test_X_rshp = df_test_X.reshape(df_test_X.shape + (1,))\n",
    "#     df_pred_y = model.predict(df_test_X_rshp)"
   ]
  },
  {
   "cell_type": "code",
   "execution_count": 23,
   "metadata": {},
   "outputs": [],
   "source": [
    "X_train, X_test, y_train, y_test = skcv.train_test_split(df_train['Sequences'].values, df_train['nint'].values, test_size=.3)"
   ]
  },
  {
   "cell_type": "code",
   "execution_count": 24,
   "metadata": {},
   "outputs": [],
   "source": [
    "X_train = pad_sequences(X_train, dtype='int')\n",
    "X_test = pad_sequences(X_test, dtype='int')"
   ]
  },
  {
   "cell_type": "code",
   "execution_count": 25,
   "metadata": {},
   "outputs": [
    {
     "data": {
      "text/html": [
       "<div>\n",
       "<style scoped>\n",
       "    .dataframe tbody tr th:only-of-type {\n",
       "        vertical-align: middle;\n",
       "    }\n",
       "\n",
       "    .dataframe tbody tr th {\n",
       "        vertical-align: top;\n",
       "    }\n",
       "\n",
       "    .dataframe thead th {\n",
       "        text-align: right;\n",
       "    }\n",
       "</style>\n",
       "<table border=\"1\" class=\"dataframe\">\n",
       "  <thead>\n",
       "    <tr style=\"text-align: right;\">\n",
       "      <th></th>\n",
       "      <th>0</th>\n",
       "      <th>1</th>\n",
       "      <th>2</th>\n",
       "      <th>3</th>\n",
       "    </tr>\n",
       "  </thead>\n",
       "  <tbody>\n",
       "    <tr>\n",
       "      <th>0</th>\n",
       "      <td>4</td>\n",
       "      <td>2</td>\n",
       "      <td>1</td>\n",
       "      <td>5</td>\n",
       "    </tr>\n",
       "    <tr>\n",
       "      <th>1</th>\n",
       "      <td>2</td>\n",
       "      <td>4</td>\n",
       "      <td>1</td>\n",
       "      <td>6</td>\n",
       "    </tr>\n",
       "    <tr>\n",
       "      <th>2</th>\n",
       "      <td>1</td>\n",
       "      <td>4</td>\n",
       "      <td>2</td>\n",
       "      <td>3</td>\n",
       "    </tr>\n",
       "  </tbody>\n",
       "</table>\n",
       "</div>"
      ],
      "text/plain": [
       "   0  1  2  3\n",
       "0  4  2  1  5\n",
       "1  2  4  1  6\n",
       "2  1  4  2  3"
      ]
     },
     "execution_count": 25,
     "metadata": {},
     "output_type": "execute_result"
    }
   ],
   "source": [
    "X_train\n",
    "pd.DataFrame(X_test)"
   ]
  },
  {
   "cell_type": "code",
   "execution_count": 26,
   "metadata": {},
   "outputs": [],
   "source": [
    "X_train_rshp = X_train.reshape(X_train.shape + (1,))\n",
    "X_test_rshp = X_test.reshape(X_test.shape + (1,))\n",
    "X_train_rshp.shape\n",
    "input_shape = X_train_rshp[0].shape"
   ]
  },
  {
   "cell_type": "code",
   "execution_count": 27,
   "metadata": {},
   "outputs": [
    {
     "name": "stderr",
     "output_type": "stream",
     "text": [
      "WARNING: Logging before flag parsing goes to stderr.\n",
      "W0316 20:09:21.814605 139719722772224 deprecation_wrapper.py:119] From /home/atharva/anaconda3/lib/python3.7/site-packages/keras/backend/tensorflow_backend.py:74: The name tf.get_default_graph is deprecated. Please use tf.compat.v1.get_default_graph instead.\n",
      "\n",
      "/home/atharva/anaconda3/lib/python3.7/site-packages/ipykernel_launcher.py:4: UserWarning: Update your `LSTM` call to the Keras 2 API: `LSTM(128, input_shape=(4, 1), return_sequences=False, go_backwards=False, activation=\"tanh\", kernel_initializer=\"glorot_normal\", recurrent_initializer=\"glorot_normal\", kernel_regularizer=<keras.reg..., recurrent_regularizer=<keras.reg...)`\n",
      "  after removing the cwd from sys.path.\n",
      "W0316 20:09:21.834328 139719722772224 deprecation_wrapper.py:119] From /home/atharva/anaconda3/lib/python3.7/site-packages/keras/backend/tensorflow_backend.py:517: The name tf.placeholder is deprecated. Please use tf.compat.v1.placeholder instead.\n",
      "\n",
      "W0316 20:09:21.836751 139719722772224 deprecation_wrapper.py:119] From /home/atharva/anaconda3/lib/python3.7/site-packages/keras/backend/tensorflow_backend.py:4185: The name tf.truncated_normal is deprecated. Please use tf.random.truncated_normal instead.\n",
      "\n",
      "W0316 20:09:22.051543 139719722772224 deprecation_wrapper.py:119] From /home/atharva/anaconda3/lib/python3.7/site-packages/keras/backend/tensorflow_backend.py:4138: The name tf.random_uniform is deprecated. Please use tf.random.uniform instead.\n",
      "\n"
     ]
    }
   ],
   "source": [
    "model = Sequential()\n",
    "model.add(LSTM(128, input_shape=input_shape, return_sequences=False, go_backwards=False,\n",
    "               W_regularizer=l2(0.005), U_regularizer=l2(0.005),\n",
    "               inner_init='glorot_normal', init='glorot_normal', activation='tanh'))\n",
    "model.add(Dense(1,activation='linear'))"
   ]
  },
  {
   "cell_type": "code",
   "execution_count": 28,
   "metadata": {
    "scrolled": false
   },
   "outputs": [
    {
     "name": "stderr",
     "output_type": "stream",
     "text": [
      "W0316 20:09:22.067328 139719722772224 deprecation_wrapper.py:119] From /home/atharva/anaconda3/lib/python3.7/site-packages/keras/optimizers.py:790: The name tf.train.Optimizer is deprecated. Please use tf.compat.v1.train.Optimizer instead.\n",
      "\n",
      "/home/atharva/anaconda3/lib/python3.7/site-packages/ipykernel_launcher.py:2: UserWarning: The `nb_epoch` argument in `fit` has been renamed `epochs`.\n",
      "  \n",
      "W0316 20:09:22.308029 139719722772224 deprecation.py:323] From /home/atharva/anaconda3/lib/python3.7/site-packages/tensorflow/python/ops/math_grad.py:1250: add_dispatch_support.<locals>.wrapper (from tensorflow.python.ops.array_ops) is deprecated and will be removed in a future version.\n",
      "Instructions for updating:\n",
      "Use tf.where in 2.0, which has the same broadcast rule as np.where\n",
      "W0316 20:09:23.145993 139719722772224 deprecation_wrapper.py:119] From /home/atharva/anaconda3/lib/python3.7/site-packages/keras/backend/tensorflow_backend.py:986: The name tf.assign_add is deprecated. Please use tf.compat.v1.assign_add instead.\n",
      "\n"
     ]
    },
    {
     "name": "stdout",
     "output_type": "stream",
     "text": [
      "Epoch 1/5\n",
      "6/6 [==============================] - 3s 451ms/step - loss: 20.3575\n",
      "Epoch 2/5\n",
      "6/6 [==============================] - 0s 4ms/step - loss: 17.6038\n",
      "Epoch 3/5\n",
      "6/6 [==============================] - 0s 2ms/step - loss: 15.7563\n",
      "Epoch 4/5\n",
      "6/6 [==============================] - 0s 3ms/step - loss: 14.1753\n",
      "Epoch 5/5\n",
      "6/6 [==============================] - 0s 2ms/step - loss: 12.7266\n"
     ]
    },
    {
     "data": {
      "text/plain": [
       "<keras.callbacks.History at 0x7f12be05c780>"
      ]
     },
     "execution_count": 28,
     "metadata": {},
     "output_type": "execute_result"
    }
   ],
   "source": [
    "model.compile(loss='mse', optimizer='rmsprop')\n",
    "model.fit(X_train_rshp, y_train, batch_size=32, nb_epoch=5)"
   ]
  },
  {
   "cell_type": "code",
   "execution_count": 29,
   "metadata": {},
   "outputs": [
    {
     "name": "stdout",
     "output_type": "stream",
     "text": [
      "[2 1 1]\n",
      "\n",
      "[[1.]\n",
      " [1.]\n",
      " [1.]]\n"
     ]
    }
   ],
   "source": [
    "y_pred = model.predict(X_test_rshp)\n",
    "print(y_test)\n",
    "print()\n",
    "print(np.round(y_pred))"
   ]
  }
 ],
 "metadata": {
  "kernelspec": {
   "display_name": "Python 3",
   "language": "python",
   "name": "python3"
  },
  "language_info": {
   "codemirror_mode": {
    "name": "ipython",
    "version": 3
   },
   "file_extension": ".py",
   "mimetype": "text/x-python",
   "name": "python",
   "nbconvert_exporter": "python",
   "pygments_lexer": "ipython3",
   "version": "3.7.3"
  }
 },
 "nbformat": 4,
 "nbformat_minor": 2
}
